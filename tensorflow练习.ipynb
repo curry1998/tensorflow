{
 "cells": [
  {
   "cell_type": "code",
   "execution_count": 13,
   "metadata": {},
   "outputs": [
    {
     "name": "stdout",
     "output_type": "stream",
     "text": [
      "[[46]]\n"
     ]
    }
   ],
   "source": [
    "#tensorflow进行矩阵的乘法\n",
    "import tensorflow as tf\n",
    "\n",
    "a=tf.constant([[4,5]])\n",
    "b=tf.constant([[4],[6]])\n",
    "c=tf.matmul(a,b)\n",
    "with tf.Session() as sess:\n",
    "    result=sess.run(c)\n",
    "    print(result)\n",
    "    \n"
   ]
  },
  {
   "cell_type": "code",
   "execution_count": 19,
   "metadata": {},
   "outputs": [
    {
     "name": "stdout",
     "output_type": "stream",
     "text": [
      "[[4 4 4]\n",
      " [5 1 1]]\n",
      "[[ 4  6  8]\n",
      " [11  9 11]]\n"
     ]
    }
   ],
   "source": [
    "#tensorflow变量初始化\n",
    "import numpy as np\n",
    "import tensorflow as tf\n",
    "#利用numpy arange创建的是int64为\n",
    "a=np.arange(6).reshape(2,3)\n",
    "var=tf.Variable([[4,5,6],[8,5,6]],dtype=tf.int64)\n",
    "const=tf.constant(a)\n",
    "#进行减法运算\n",
    "sub=tf.subtract(var,const)\n",
    "#进行乘法运算\n",
    "chengfa=tf.add(var,const)\n",
    "#对变量初始化\n",
    "init=tf.global_variables_initializer()\n",
    "with tf.Session() as sess:\n",
    "    sess.run(init)\n",
    "    print sess.run(sub)\n",
    "    print sess.run(chengfa)\n"
   ]
  },
  {
   "cell_type": "code",
   "execution_count": 26,
   "metadata": {},
   "outputs": [
    {
     "name": "stdout",
     "output_type": "stream",
     "text": [
      "1\n",
      "2\n",
      "3\n",
      "4\n",
      "5\n"
     ]
    }
   ],
   "source": [
    "#tensorflow的赋值不能直接通过等号\n",
    "var2=tf.Variable(0)\n",
    "add=tf.add(var2,1)\n",
    "#把add的值赋值给var\n",
    "update=tf.assign(var2,add)\n",
    "init=tf.global_variables_initializer()\n",
    "with tf.Session() as sess:\n",
    "    sess.run(init)\n",
    "    for i in range(5):\n",
    "        print sess.run(update)"
   ]
  },
  {
   "cell_type": "code",
   "execution_count": 29,
   "metadata": {},
   "outputs": [
    {
     "ename": "SyntaxError",
     "evalue": "invalid syntax (<ipython-input-29-af9c4a411ffc>, line 2)",
     "output_type": "error",
     "traceback": [
      "\u001b[0;36m  File \u001b[0;32m\"<ipython-input-29-af9c4a411ffc>\"\u001b[0;36m, line \u001b[0;32m2\u001b[0m\n\u001b[0;31m    sess.run(里面可以是多个节点)\u001b[0m\n\u001b[0m             ^\u001b[0m\n\u001b[0;31mSyntaxError\u001b[0m\u001b[0;31m:\u001b[0m invalid syntax\n"
     ]
    }
   ],
   "source": [
    "#tensorflow中的fetch\n",
    "sess.run(里面可以是多个节点)"
   ]
  },
  {
   "cell_type": "code",
   "execution_count": 38,
   "metadata": {},
   "outputs": [
    {
     "name": "stdout",
     "output_type": "stream",
     "text": [
      "[-4.4]\n"
     ]
    }
   ],
   "source": [
    "#tensorflow占位符（占位符要指定元素的类型）\n",
    "#以及feed_dict赋值\n",
    "a=tf.placeholder(tf.float32)\n",
    "b=tf.placeholder(tf.float32)\n",
    "mau=tf.subtract(a,b)\n",
    "with tf.Session() as sess:\n",
    "    print sess.run(mau,feed_dict={a:[1.],b:[5.4]})"
   ]
  },
  {
   "cell_type": "code",
   "execution_count": 46,
   "metadata": {},
   "outputs": [
    {
     "name": "stdout",
     "output_type": "stream",
     "text": [
      "[[5.0636423  5.10963473 6.80813201]\n",
      " [1.01134086 3.08695622 9.95805738]]\n"
     ]
    }
   ],
   "source": [
    "#numpy产生随机数\n",
    "x_data=np.random.uniform(1,10,size=(2,3))#\n",
    "print x_data"
   ]
  },
  {
   "cell_type": "code",
   "execution_count": 72,
   "metadata": {},
   "outputs": [
    {
     "data": {
      "image/png": "[encoded data removed]",
      "text/plain": [
       "<matplotlib.figure.Figure at 0x7f0b3ed8fd50>"
      ]
     },
     "metadata": {},
     "output_type": "display_data"
    }
   ],
   "source": [
    "#tensoprflow实现的拟合曲线\n",
    "import tensorflow as tf\n",
    "import numpy as np\n",
    "import matplotlib.pyplot as plt\n",
    "\n",
    "#产生随机数据\n",
    "x_data=np.linspace(-1,1,200)[:,np.newaxis] #使其从1行300列变为300行1列\n",
    "noise=np.random.normal(0,0.05,size=x_data.shape)\n",
    "y_data=np.square(x_data)+noise\n",
    "#产生占位符(作为输入数据)\n",
    "x=tf.placeholder(tf.float32,[None,1])#输入的为给定的行，但列必须为1列\n",
    "y=tf.placeholder(tf.float32,[None,1])\n",
    "#构建神经网络的中间层(参数是随机生成的)\n",
    "weight1=tf.Variable(tf.random_normal([1,10]))\n",
    "basis1=tf.Variable(tf.random_normal([1,10]))\n",
    "w_x_b=tf.matmul(x,weight1)+basis1\n",
    "L1=tf.nn.tanh(w_x_b)#使用relu为一条直线\n",
    "#构建神经网络的输出层\n",
    "weight_2=tf.Variable(tf.random_normal([10,1]))\n",
    "basis2=tf.Variable(tf.random_normal([1,1]))#为什么这里的偏置项为1，1因为输入层只有一个神经元所以只有一个偏置项\n",
    "w_x_b2=tf.matmul(L1,weight_2)+basis2\n",
    "prediction=tf.nn.tanh(w_x_b2)#也可以采用tanh()去线性化(使用relu为一条直线)\n",
    "\n",
    "loss=tf.reduce_mean(tf.square(y-prediction))\n",
    "#x学习效率为0.05\n",
    "optimizer=tf.train.GradientDescentOptimizer(0.05).minimize(loss)\n",
    "init=tf.global_variables_initializer()\n",
    "#保存参数,创建一个saver对象\n",
    "saver=tf.train.Saver()\n",
    "with tf.Session() as sess:\n",
    "    sess.run(init)\n",
    "#将模型训练3000次\n",
    "    for i in range(3000):\n",
    "        sess.run(optimizer,feed_dict={x:x_data,y:y_data})\n",
    "    #保存参数\n",
    "    saver.save(sess,\"learngit/回归参数.ckpt\")\n",
    "    predicton_value=sess.run(prediction,feed_dict={x:x_data})\n",
    "    plt.figure()\n",
    "    plt.scatter(x_data,y_data)\n",
    "    plt.plot(x_data,predicton_value,linewidth=5)\n",
    "    plt.show()\n"
   ]
  },
  {
   "cell_type": "code",
   "execution_count": 68,
   "metadata": {},
   "outputs": [
    {
     "ename": "NameError",
     "evalue": "name 'impor' is not defined",
     "output_type": "error",
     "traceback": [
      "\u001b[0;31m---------------------------------------------------------------------------\u001b[0m",
      "\u001b[0;31mNameError\u001b[0m                                 Traceback (most recent call last)",
      "\u001b[0;32m<ipython-input-68-534fa92c925d>\u001b[0m in \u001b[0;36m<module>\u001b[0;34m()\u001b[0m\n\u001b[0;32m----> 1\u001b[0;31m \u001b[0mimpor\u001b[0m\u001b[0;34m\u001b[0m\u001b[0m\n\u001b[0m",
      "\u001b[0;31mNameError\u001b[0m: name 'impor' is not defined"
     ]
    }
   ],
   "source": [
    "#tensorflow实x\n",
    "\n",
    "\n",
    "\n",
    "\n",
    "\n",
    "\n",
    "\n",
    "\n",
    "\n",
    "\n",
    "\n",
    "\n",
    "\n",
    "\n",
    "\n"
   ]
  },
  {
   "cell_type": "code",
   "execution_count": null,
   "metadata": {},
   "outputs": [],
   "source": []
  }
 ],
 "metadata": {
  "kernelspec": {
   "display_name": "Python 2",
   "language": "python",
   "name": "python2"
  },
  "language_info": {
   "codemirror_mode": {
    "name": "ipython",
    "version": 2
   },
   "file_extension": ".py",
   "mimetype": "text/x-python",
   "name": "python",
   "nbconvert_exporter": "python",
   "pygments_lexer": "ipython2",
   "version": "2.7.14"
  }
 },
 "nbformat": 4,
 "nbformat_minor": 2
}
