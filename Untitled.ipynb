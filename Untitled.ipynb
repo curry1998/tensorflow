{
 "cells": [
  {
   "cell_type": "code",
   "execution_count": 6,
   "metadata": {},
   "outputs": [
    {
     "name": "stdout",
     "output_type": "stream",
     "text": [
      "aghsdhjahjasgjvbasjd ghjfsahgjasdhjahuwghjasdhjka dsajhajdhajhjhdgjahjbasausdfa;lk;faeuhbgasjdhgjn ajhf \n",
      "\n",
      "jughasdhjanjashfduaeihjdshz sadhjshdfoehhsdansandajkkdvbaj,mzjahad\n",
      "\n",
      "asdfhjadsfhajandsviujjsdfjhfbjsdfnajksk\n",
      "\n"
     ]
    }
   ],
   "source": [
    "raw_text=open(\"123.txt\",\"r\")\n",
    "#wenzhang=raw_text.read()\n",
    "for i in range(3):\n",
    "    test=raw_text.readline()\n",
    "    print (test)\n",
    "raw_text.close()\n",
    "#print(wenzhang)"
   ]
  },
  {
   "cell_type": "code",
   "execution_count": null,
   "metadata": {},
   "outputs": [],
   "source": [
    "with open(\"文件名\") as f:\n",
    "    "
   ]
  }
 ],
 "metadata": {
  "kernelspec": {
   "display_name": "Python 2",
   "language": "python",
   "name": "python2"
  },
  "language_info": {
   "codemirror_mode": {
    "name": "ipython",
    "version": 2
   },
   "file_extension": ".py",
   "mimetype": "text/x-python",
   "name": "python",
   "nbconvert_exporter": "python",
   "pygments_lexer": "ipython2",
   "version": "2.7.14"
  }
 },
 "nbformat": 4,
 "nbformat_minor": 2
}
